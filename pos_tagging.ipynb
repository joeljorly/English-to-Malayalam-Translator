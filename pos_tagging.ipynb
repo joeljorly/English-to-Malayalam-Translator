{
  "nbformat": 4,
  "nbformat_minor": 0,
  "metadata": {
    "colab": {
      "name": "method2.ipynb",
      "provenance": [],
      "collapsed_sections": []
    },
    "kernelspec": {
      "name": "python3",
      "display_name": "Python 3"
    }
  },
  "cells": [
    {
      "cell_type": "code",
      "metadata": {
        "id": "f3bx1bkYRBrY",
        "outputId": "1e29acbd-700f-4b4d-e57d-bc23b8974d2b",
        "colab": {
          "base_uri": "https://localhost:8080/",
          "height": 143
        }
      },
      "source": [
        "import nltk\n",
        "from nltk import word_tokenize, pos_tag\n",
        "import csv \n",
        "import turicreate\n",
        "nltk.download('punkt')\n",
        "nltk.download('averaged_perceptron_tagger')"
      ],
      "execution_count": null,
      "outputs": [
        {
          "output_type": "stream",
          "text": [
            "[nltk_data] Downloading package punkt to /root/nltk_data...\n",
            "[nltk_data]   Package punkt is already up-to-date!\n",
            "[nltk_data] Downloading package averaged_perceptron_tagger to\n",
            "[nltk_data]     /root/nltk_data...\n",
            "[nltk_data]   Package averaged_perceptron_tagger is already up-to-\n",
            "[nltk_data]       date!\n"
          ],
          "name": "stdout"
        },
        {
          "output_type": "execute_result",
          "data": {
            "text/plain": [
              "True"
            ]
          },
          "metadata": {
            "tags": []
          },
          "execution_count": 48
        }
      ]
    },
    {
      "cell_type": "code",
      "metadata": {
        "id": "IgBtDTpiRMA0",
        "outputId": "974b28e5-de15-481d-aa53-139d1ca82cf3",
        "colab": {
          "base_uri": "https://localhost:8080/",
          "height": 35
        }
      },
      "source": [
        "pos=pos_tag(word_tokenize(\"she is driving a car\"))\n",
        "print (pos)"
      ],
      "execution_count": null,
      "outputs": [
        {
          "output_type": "stream",
          "text": [
            "[('she', 'PRP'), ('is', 'VBZ'), ('driving', 'VBG'), ('a', 'DT'), ('car', 'NN')]\n"
          ],
          "name": "stdout"
        }
      ]
    },
    {
      "cell_type": "code",
      "metadata": {
        "id": "YgxQOTo8RUJt",
        "outputId": "d734a8e1-89d5-4513-b6f7-f81fbcfe1553",
        "colab": {
          "base_uri": "https://localhost:8080/",
          "height": 35
        }
      },
      "source": [
        "stop_words=['a','is','the','am','to','are']\n",
        "new_pos=[]\n",
        "for stop in pos:\n",
        "    if stop[0] not in stop_words:\n",
        "        new_pos.append(stop)\n",
        "print(new_pos)"
      ],
      "execution_count": null,
      "outputs": [
        {
          "output_type": "stream",
          "text": [
            "[('she', 'PRP'), ('driving', 'VBG'), ('car', 'NN')]\n"
          ],
          "name": "stdout"
        }
      ]
    },
    {
      "cell_type": "code",
      "metadata": {
        "id": "9As0snFwRlZ8",
        "outputId": "77534c63-9fdf-41e4-f624-c831bd02e3ec",
        "colab": {
          "base_uri": "https://localhost:8080/",
          "height": 125
        }
      },
      "source": [
        "c=0\n",
        "obj=[]\n",
        "sub=[]\n",
        "verb=[]\n",
        "for i in new_pos:\n",
        "    print(i[1])\n",
        "    \n",
        "    if i[1]=='PRP' or i[1]=='NN':\n",
        "        if (new_pos[c-1][1]=='VBG'or new_pos[c-1][1]=='VBD' and c>0):\n",
        "            obj.append(i[0])\n",
        "            c=c+1\n",
        "        else:\n",
        "            sub.append(i[0])\n",
        "            c=c+1\n",
        "    else:\n",
        "        verb.append(i[0])\n",
        "        c=c+1\n",
        "print(sub)    \n",
        "print(obj)\n",
        "print(verb)"
      ],
      "execution_count": null,
      "outputs": [
        {
          "output_type": "stream",
          "text": [
            "PRP\n",
            "VBG\n",
            "NN\n",
            "['she']\n",
            "['car']\n",
            "['driving']\n"
          ],
          "name": "stdout"
        }
      ]
    },
    {
      "cell_type": "code",
      "metadata": {
        "id": "vgNIZVgJRmod",
        "outputId": "27052c5c-943e-42ec-a408-a1c7559e2471",
        "colab": {
          "base_uri": "https://localhost:8080/",
          "height": 35
        }
      },
      "source": [
        "final=[]\n",
        "final.append(sub[0])\n",
        "final.append(obj[0])\n",
        "final.append(verb[0])\n",
        "print(final)\n"
      ],
      "execution_count": null,
      "outputs": [
        {
          "output_type": "stream",
          "text": [
            "['she', 'car', 'driving']\n"
          ],
          "name": "stdout"
        }
      ]
    },
    {
      "cell_type": "code",
      "metadata": {
        "id": "x5q33QhJRqR9",
        "outputId": "3472762e-2a21-460a-f4bd-494922cc562c",
        "colab": {
          "base_uri": "https://localhost:8080/",
          "height": 213
        }
      },
      "source": [
        "st=turicreate.SFrame.read_csv('data.csv', delimiter='\\t')"
      ],
      "execution_count": null,
      "outputs": [
        {
          "output_type": "display_data",
          "data": {
            "text/html": [
              "<pre>Finished parsing file /content/data.csv</pre>"
            ],
            "text/plain": [
              "Finished parsing file /content/data.csv"
            ]
          },
          "metadata": {
            "tags": []
          }
        },
        {
          "output_type": "display_data",
          "data": {
            "text/html": [
              "<pre>Parsing completed. Parsed 100 lines in 0.719111 secs.</pre>"
            ],
            "text/plain": [
              "Parsing completed. Parsed 100 lines in 0.719111 secs."
            ]
          },
          "metadata": {
            "tags": []
          }
        },
        {
          "output_type": "stream",
          "text": [
            "------------------------------------------------------\n",
            "Inferred types from first 100 line(s) of file as \n",
            "column_type_hints=[int,str,str,str]\n",
            "If parsing fails due to incorrect types, you can correct\n",
            "the inferred type list above and pass it to read_csv in\n",
            "the column_type_hints argument\n",
            "------------------------------------------------------\n"
          ],
          "name": "stdout"
        },
        {
          "output_type": "display_data",
          "data": {
            "text/html": [
              "<pre>Finished parsing file /content/data.csv</pre>"
            ],
            "text/plain": [
              "Finished parsing file /content/data.csv"
            ]
          },
          "metadata": {
            "tags": []
          }
        },
        {
          "output_type": "display_data",
          "data": {
            "text/html": [
              "<pre>Parsing completed. Parsed 217433 lines in 0.363629 secs.</pre>"
            ],
            "text/plain": [
              "Parsing completed. Parsed 217433 lines in 0.363629 secs."
            ]
          },
          "metadata": {
            "tags": []
          }
        }
      ]
    },
    {
      "cell_type": "code",
      "metadata": {
        "id": "1WlvmUzEV0gD",
        "outputId": "674ec819-8760-4e73-f8ab-ef32356aa7ca",
        "colab": {
          "base_uri": "https://localhost:8080/",
          "height": 35
        }
      },
      "source": [
        "c=0\n",
        "eng=st['english_word']\n",
        "mal=st['malayalam_definition']\n",
        "for i in final:\n",
        "  c=0\n",
        "  for j in eng:\n",
        "    c=c+1\n",
        "    if i.lower()==j.lower():\n",
        "      print(mal[c-1], end =\" \")\n",
        "      break"
      ],
      "execution_count": null,
      "outputs": [
        {
          "output_type": "stream",
          "text": [
            "അവള്‍ മോട്ടോര്‍കാര്‍ ഓടിക്കുന്ന "
          ],
          "name": "stdout"
        }
      ]
    },
    {
      "cell_type": "code",
      "metadata": {
        "id": "8xtZFMIGmpx9"
      },
      "source": [
        ""
      ],
      "execution_count": null,
      "outputs": []
    },
    {
      "cell_type": "code",
      "metadata": {
        "id": "dyyG7pYjow22"
      },
      "source": [
        ""
      ],
      "execution_count": null,
      "outputs": []
    }
  ]
}