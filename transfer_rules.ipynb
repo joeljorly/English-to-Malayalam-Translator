{
  "nbformat": 4,
  "nbformat_minor": 0,
  "metadata": {
    "colab": {
      "name": "method3.ipynb",
      "provenance": [],
      "collapsed_sections": []
    },
    "kernelspec": {
      "name": "python3",
      "display_name": "Python 3"
    }
  },
  "cells": [
    {
      "cell_type": "code",
      "metadata": {
        "id": "WZu8cHfOikGQ",
        "outputId": "cfcff59e-5a7f-43d9-e3eb-1b0af7ed2776",
        "colab": {
          "base_uri": "https://localhost:8080/",
          "height": 104
        }
      },
      "source": [
        "import nltk \n",
        "nltk.download('punkt') \n",
        "nltk.download('averaged_perceptron_tagger') \n",
        "from nltk import pos_tag, word_tokenize, RegexpParser "
      ],
      "execution_count": null,
      "outputs": [
        {
          "output_type": "stream",
          "text": [
            "[nltk_data] Downloading package punkt to /root/nltk_data...\n",
            "[nltk_data]   Unzipping tokenizers/punkt.zip.\n",
            "[nltk_data] Downloading package averaged_perceptron_tagger to\n",
            "[nltk_data]     /root/nltk_data...\n",
            "[nltk_data]   Unzipping taggers/averaged_perceptron_tagger.zip.\n"
          ],
          "name": "stdout"
        }
      ]
    },
    {
      "cell_type": "code",
      "metadata": {
        "id": "70MQMkOpjzp4",
        "outputId": "33e7049e-ea86-4222-923c-9f1389dd4bfa",
        "colab": {
          "base_uri": "https://localhost:8080/",
          "height": 34
        }
      },
      "source": [
        "sample_text = \"she is driving a car\"\n",
        "\n",
        "\n",
        "tagged = pos_tag(word_tokenize(sample_text)) \n",
        "print(tagged)"
      ],
      "execution_count": null,
      "outputs": [
        {
          "output_type": "stream",
          "text": [
            "[('she', 'PRP'), ('is', 'VBZ'), ('driving', 'VBG'), ('a', 'DT'), ('car', 'NN')]\n"
          ],
          "name": "stdout"
        }
      ]
    },
    {
      "cell_type": "code",
      "metadata": {
        "id": "hphGJpo7kDTp",
        "outputId": "705f85fc-031d-4329-cfcf-6b1d549c8664",
        "colab": {
          "base_uri": "https://localhost:8080/",
          "height": 243
        }
      },
      "source": [
        "from nltk import Tree\n",
        "\n",
        "chunker = RegexpParser(\"\"\" \n",
        "                       NP: {<DT>?<JJ>*<NN>}    #To extract Noun Phrases \n",
        "                       P: {<IN>}               #To extract Prepositions \n",
        "                       VBG: {<VBG>}              #To extract Verbs \n",
        "                       VBD: {<VBD>}\n",
        "                       VBZ: {<VBZ>}\n",
        "                       PP: {<P> <NP>}          #To extract Prepostional Phrases \n",
        "                       VP: {<VBG> <NP|PP>*}      #To \n",
        "                       VP: {<VBD> <NP|PP>*}\n",
        "                       VP: {<VBZ> <NP|PP>*}\n",
        "                      \"\"\")\n",
        "word=[]\n",
        "output = chunker.parse(tagged) \n",
        "for i in output:\n",
        "    length=len(i)\n",
        "    for j in i:\n",
        "      print(j)\n",
        "      if len(j)>1:\n",
        "        for k in j:\n",
        "          print(k)"
      ],
      "execution_count": null,
      "outputs": [
        {
          "output_type": "stream",
          "text": [
            "she\n",
            "s\n",
            "h\n",
            "e\n",
            "PRP\n",
            "P\n",
            "R\n",
            "P\n",
            "(VBZ is/VBZ)\n",
            "(VBG driving/VBG)\n",
            "(NP a/DT car/NN)\n",
            "('a', 'DT')\n",
            "('car', 'NN')\n"
          ],
          "name": "stdout"
        }
      ]
    },
    {
      "cell_type": "code",
      "metadata": {
        "id": "YWSes8CJ2gSM",
        "outputId": "d5f268d7-7736-42ab-bec5-5fdc84244d6d",
        "colab": {
          "base_uri": "https://localhost:8080/",
          "height": 69
        }
      },
      "source": [
        "print(output)\n",
        "def tails(items, path=()):\n",
        "  for child in items:\n",
        "\n",
        "    if type(child) is nltk.Tree:\n",
        "        if child.label() in {\".\", \",\"}:\n",
        "            continue\n",
        "        for result in tails(child, path + (child.label(),)):\n",
        "            yield result\n",
        "    else:\n",
        "        yield path[-2:]\n",
        "a=list(tails(output))\n",
        "print(a)\n",
        "word=word_tokenize(sample_text)\n",
        "print(word)\n"
      ],
      "execution_count": null,
      "outputs": [
        {
          "output_type": "stream",
          "text": [
            "(S she/PRP (VP (VBZ is/VBZ)) (VP (VBG driving/VBG) (NP a/DT car/NN)))\n",
            "[(), ('VP', 'VBZ'), ('VP', 'VBG'), ('VP', 'NP'), ('VP', 'NP')]\n",
            "['she', 'is', 'driving', 'a', 'car']\n"
          ],
          "name": "stdout"
        }
      ]
    },
    {
      "cell_type": "code",
      "metadata": {
        "id": "u9ehuLTwvXMo",
        "outputId": "6e19a618-a3e1-48ab-a047-0ff82d8df182",
        "colab": {
          "base_uri": "https://localhost:8080/",
          "height": 156
        }
      },
      "source": [
        "d=[]\n",
        "c=0\n",
        "l=0\n",
        "\n",
        "##Append\n",
        "for j in a:\n",
        "  d.append(list(j))\n",
        "print(d)\n",
        "print(word)\n",
        "##Interchange\n",
        "for i in d:\n",
        "    if len(i)==0 or len(i)<=1:\n",
        "      c=c+1\n",
        "      continue\n",
        "    elif i[0]=='VP':\n",
        "        print(d[c][1])\n",
        "       \n",
        "        if (d[c][1]=='VBD' and d[c+1][1]=='NP'):\n",
        "            temp=d[c]\n",
        "            d[c]=d[c+1]\n",
        "            d[c+1]=temp\n",
        "            temp1=word[c]\n",
        "            word[c]=word[c+1]\n",
        "            word[c+1]=temp1\n",
        "\n",
        "        elif (d[c][1]=='VBG' and d[c+1][1]=='NP'):\n",
        "          temp=d[c]\n",
        "          d[c]=d[c+1]\n",
        "          d[c+1]=temp\n",
        "          temp1=word[c]\n",
        "          word[c]=word[c+1]\n",
        "          word[c+1]=temp1 \n",
        "        else:\n",
        "          c=c+1    \n",
        "\n",
        "\n",
        "print(d)\n",
        "print(word)    "
      ],
      "execution_count": null,
      "outputs": [
        {
          "output_type": "stream",
          "text": [
            "[[], ['VP', 'VBZ'], ['VP', 'VBG'], ['VP', 'NP'], ['VP', 'NP']]\n",
            "['she', 'is', 'driving', 'a', 'car']\n",
            "VBZ\n",
            "VBG\n",
            "NP\n",
            "VBG\n",
            "[[], ['VP', 'VBZ'], ['VP', 'NP'], ['VP', 'NP'], ['VP', 'VBG']]\n",
            "['she', 'is', 'a', 'car', 'driving']\n"
          ],
          "name": "stdout"
        }
      ]
    },
    {
      "cell_type": "code",
      "metadata": {
        "id": "so1jO7pgx-DZ",
        "outputId": "7e25856e-cc3e-4792-c9b5-8009803d7c47",
        "colab": {
          "base_uri": "https://localhost:8080/",
          "height": 341
        }
      },
      "source": [
        "import turicreate\n",
        "st=turicreate.SFrame.read_csv('data.csv')\n",
        "st"
      ],
      "execution_count": null,
      "outputs": [
        {
          "output_type": "error",
          "ename": "ModuleNotFoundError",
          "evalue": "ignored",
          "traceback": [
            "\u001b[0;31m---------------------------------------------------------------------------\u001b[0m",
            "\u001b[0;31mModuleNotFoundError\u001b[0m                       Traceback (most recent call last)",
            "\u001b[0;32m<ipython-input-6-33ec51cd377d>\u001b[0m in \u001b[0;36m<module>\u001b[0;34m()\u001b[0m\n\u001b[0;32m----> 1\u001b[0;31m \u001b[0;32mimport\u001b[0m \u001b[0mturicreate\u001b[0m\u001b[0;34m\u001b[0m\u001b[0;34m\u001b[0m\u001b[0m\n\u001b[0m\u001b[1;32m      2\u001b[0m \u001b[0mst\u001b[0m\u001b[0;34m=\u001b[0m\u001b[0mturicreate\u001b[0m\u001b[0;34m.\u001b[0m\u001b[0mSFrame\u001b[0m\u001b[0;34m.\u001b[0m\u001b[0mread_csv\u001b[0m\u001b[0;34m(\u001b[0m\u001b[0;34m'data.csv'\u001b[0m\u001b[0;34m)\u001b[0m\u001b[0;34m\u001b[0m\u001b[0;34m\u001b[0m\u001b[0m\n\u001b[1;32m      3\u001b[0m \u001b[0mst\u001b[0m\u001b[0;34m\u001b[0m\u001b[0;34m\u001b[0m\u001b[0m\n",
            "\u001b[0;31mModuleNotFoundError\u001b[0m: No module named 'turicreate'",
            "",
            "\u001b[0;31m---------------------------------------------------------------------------\u001b[0;32m\nNOTE: If your import is failing due to a missing package, you can\nmanually install dependencies using either !pip or !apt.\n\nTo view examples of installing some common dependencies, click the\n\"Open Examples\" button below.\n\u001b[0;31m---------------------------------------------------------------------------\u001b[0m\n"
          ]
        }
      ]
    },
    {
      "cell_type": "code",
      "metadata": {
        "id": "ml6_3OVQ8fX6"
      },
      "source": [
        "c=0\n",
        "eng=st['english_word']\n",
        "mal=st['malayalam_definition']\n",
        "for w in word:\n",
        "  for e in eng:\n",
        "    if e.lower()=='':\n",
        "      print(e)"
      ],
      "execution_count": null,
      "outputs": []
    },
    {
      "cell_type": "code",
      "metadata": {
        "id": "2PSXzS49yHXk"
      },
      "source": [
        "c=0\n",
        "eng=st['english_word']\n",
        "mal=st['malayalam_definition']\n",
        "for single_word in range(0,len(word)):\n",
        "   c=0\n",
        "   if word[single_word]=='a' and word[single_word-1]=='is':\n",
        "     for j in eng:\n",
        "        c=c+1\n",
        "        if word[single_word]==j.lower():\n",
        "            print(mal[c-1], end =\" \")\n",
        "   else:\n",
        "    for k in eng:\n",
        "      c=c+1\n",
        "      if word[single_word]==k.lower():\n",
        "          print(mal[c-1], end =\" \")\n",
        "          break\n",
        "     "
      ],
      "execution_count": null,
      "outputs": []
    },
    {
      "cell_type": "code",
      "metadata": {
        "id": "-gTMoOAAsnHQ"
      },
      "source": [
        "a='പാടുക'"
      ],
      "execution_count": null,
      "outputs": []
    },
    {
      "cell_type": "code",
      "metadata": {
        "id": "vwNfNqxaLvGV"
      },
      "source": [
        ""
      ],
      "execution_count": null,
      "outputs": []
    }
  ]
}