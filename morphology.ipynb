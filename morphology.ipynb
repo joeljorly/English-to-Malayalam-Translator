{
  "nbformat": 4,
  "nbformat_minor": 0,
  "metadata": {
    "colab": {
      "name": "method4.ipynb",
      "provenance": [],
      "collapsed_sections": [],
      "toc_visible": true
    },
    "kernelspec": {
      "name": "python3",
      "display_name": "Python 3"
    }
  },
  "cells": [
    {
      "cell_type": "code",
      "metadata": {
        "id": "SSja4gtzHBlE",
        "outputId": "9026a039-abbd-4b57-d539-6a8564e8b97e",
        "colab": {
          "base_uri": "https://localhost:8080/",
          "height": 107
        }
      },
      "source": [
        "import nltk \n",
        "nltk.download('punkt') \n",
        "nltk.download('averaged_perceptron_tagger') \n",
        "from nltk import pos_tag, word_tokenize, RegexpParser ,tree\n"
      ],
      "execution_count": null,
      "outputs": [
        {
          "output_type": "stream",
          "text": [
            "[nltk_data] Downloading package punkt to /root/nltk_data...\n",
            "[nltk_data]   Unzipping tokenizers/punkt.zip.\n",
            "[nltk_data] Downloading package averaged_perceptron_tagger to\n",
            "[nltk_data]     /root/nltk_data...\n",
            "[nltk_data]   Unzipping taggers/averaged_perceptron_tagger.zip.\n"
          ],
          "name": "stdout"
        }
      ]
    },
    {
      "cell_type": "code",
      "metadata": {
        "id": "BzWdL2mEIzcf",
        "outputId": "ce45454a-b103-4b35-f871-ae6d7d5d36d2",
        "colab": {
          "base_uri": "https://localhost:8080/",
          "height": 1000
        }
      },
      "source": [
        "pip install turicreate"
      ],
      "execution_count": null,
      "outputs": [
        {
          "output_type": "stream",
          "text": [
            "Collecting turicreate\n",
            "\u001b[?25l  Downloading https://files.pythonhosted.org/packages/ea/63/00ef7586c56a1aa48a7acabe20e1118cd82794785a56137e190fc6fb049c/turicreate-6.4.1-cp36-cp36m-manylinux1_x86_64.whl (92.0MB)\n",
            "\u001b[K     |████████████████████████████████| 92.0MB 67kB/s \n",
            "\u001b[?25hRequirement already satisfied: pillow>=5.2.0 in /usr/local/lib/python3.6/dist-packages (from turicreate) (7.0.0)\n",
            "Requirement already satisfied: scipy>=1.1.0 in /usr/local/lib/python3.6/dist-packages (from turicreate) (1.4.1)\n",
            "Requirement already satisfied: pandas>=0.23.2 in /usr/local/lib/python3.6/dist-packages (from turicreate) (1.1.2)\n",
            "Collecting resampy==0.2.1\n",
            "\u001b[?25l  Downloading https://files.pythonhosted.org/packages/14/b6/66a06d85474190b50aee1a6c09cdc95bb405ac47338b27e9b21409da1760/resampy-0.2.1.tar.gz (322kB)\n",
            "\u001b[K     |████████████████████████████████| 327kB 37.3MB/s \n",
            "\u001b[?25hCollecting tensorflow<2.1.0,>=2.0.0\n",
            "\u001b[?25l  Downloading https://files.pythonhosted.org/packages/87/5e/254f5baeb331a7c9065b796d786cd07c5db79f2d76a496b74891a6521e25/tensorflow-2.0.3-cp36-cp36m-manylinux2010_x86_64.whl (86.4MB)\n",
            "\u001b[K     |████████████████████████████████| 86.4MB 67kB/s \n",
            "\u001b[?25hRequirement already satisfied: numpy in /usr/local/lib/python3.6/dist-packages (from turicreate) (1.18.5)\n",
            "Requirement already satisfied: decorator>=4.0.9 in /usr/local/lib/python3.6/dist-packages (from turicreate) (4.4.2)\n",
            "Requirement already satisfied: six>=1.10.0 in /usr/local/lib/python3.6/dist-packages (from turicreate) (1.15.0)\n",
            "Requirement already satisfied: numba<0.51.0 in /usr/local/lib/python3.6/dist-packages (from turicreate) (0.48.0)\n",
            "Requirement already satisfied: prettytable==0.7.2 in /usr/local/lib/python3.6/dist-packages (from turicreate) (0.7.2)\n",
            "Collecting coremltools==3.3\n",
            "\u001b[?25l  Downloading https://files.pythonhosted.org/packages/77/19/611916d1ef326d38857d93af5ba184f6ad7491642e0fa4f9082e7d82f034/coremltools-3.3-cp36-none-manylinux1_x86_64.whl (3.4MB)\n",
            "\u001b[K     |████████████████████████████████| 3.4MB 36.5MB/s \n",
            "\u001b[?25hRequirement already satisfied: requests>=2.9.1 in /usr/local/lib/python3.6/dist-packages (from turicreate) (2.23.0)\n",
            "Requirement already satisfied: python-dateutil>=2.7.3 in /usr/local/lib/python3.6/dist-packages (from pandas>=0.23.2->turicreate) (2.8.1)\n",
            "Requirement already satisfied: pytz>=2017.2 in /usr/local/lib/python3.6/dist-packages (from pandas>=0.23.2->turicreate) (2018.9)\n",
            "Requirement already satisfied: keras-preprocessing>=1.0.5 in /usr/local/lib/python3.6/dist-packages (from tensorflow<2.1.0,>=2.0.0->turicreate) (1.1.2)\n",
            "Requirement already satisfied: astor>=0.6.0 in /usr/local/lib/python3.6/dist-packages (from tensorflow<2.1.0,>=2.0.0->turicreate) (0.8.1)\n",
            "Collecting tensorboard<2.1.0,>=2.0.0\n",
            "\u001b[?25l  Downloading https://files.pythonhosted.org/packages/76/54/99b9d5d52d5cb732f099baaaf7740403e83fe6b0cedde940fabd2b13d75a/tensorboard-2.0.2-py3-none-any.whl (3.8MB)\n",
            "\u001b[K     |████████████████████████████████| 3.8MB 38.4MB/s \n",
            "\u001b[?25hRequirement already satisfied: google-pasta>=0.1.6 in /usr/local/lib/python3.6/dist-packages (from tensorflow<2.1.0,>=2.0.0->turicreate) (0.2.0)\n",
            "Requirement already satisfied: opt-einsum>=2.3.2 in /usr/local/lib/python3.6/dist-packages (from tensorflow<2.1.0,>=2.0.0->turicreate) (3.3.0)\n",
            "Collecting gast==0.2.2\n",
            "  Downloading https://files.pythonhosted.org/packages/4e/35/11749bf99b2d4e3cceb4d55ca22590b0d7c2c62b9de38ac4a4a7f4687421/gast-0.2.2.tar.gz\n",
            "Requirement already satisfied: wrapt>=1.11.1 in /usr/local/lib/python3.6/dist-packages (from tensorflow<2.1.0,>=2.0.0->turicreate) (1.12.1)\n",
            "Requirement already satisfied: grpcio>=1.8.6 in /usr/local/lib/python3.6/dist-packages (from tensorflow<2.1.0,>=2.0.0->turicreate) (1.32.0)\n",
            "Collecting keras-applications>=1.0.8\n",
            "\u001b[?25l  Downloading https://files.pythonhosted.org/packages/71/e3/19762fdfc62877ae9102edf6342d71b28fbfd9dea3d2f96a882ce099b03f/Keras_Applications-1.0.8-py3-none-any.whl (50kB)\n",
            "\u001b[K     |████████████████████████████████| 51kB 3.8MB/s \n",
            "\u001b[?25hCollecting tensorflow-estimator<2.1.0,>=2.0.0\n",
            "\u001b[?25l  Downloading https://files.pythonhosted.org/packages/fc/08/8b927337b7019c374719145d1dceba21a8bb909b93b1ad6f8fb7d22c1ca1/tensorflow_estimator-2.0.1-py2.py3-none-any.whl (449kB)\n",
            "\u001b[K     |████████████████████████████████| 450kB 32.8MB/s \n",
            "\u001b[?25hRequirement already satisfied: wheel>=0.26; python_version >= \"3\" in /usr/local/lib/python3.6/dist-packages (from tensorflow<2.1.0,>=2.0.0->turicreate) (0.35.1)\n",
            "Requirement already satisfied: protobuf>=3.6.1 in /usr/local/lib/python3.6/dist-packages (from tensorflow<2.1.0,>=2.0.0->turicreate) (3.12.4)\n",
            "Requirement already satisfied: absl-py>=0.7.0 in /usr/local/lib/python3.6/dist-packages (from tensorflow<2.1.0,>=2.0.0->turicreate) (0.10.0)\n",
            "Requirement already satisfied: termcolor>=1.1.0 in /usr/local/lib/python3.6/dist-packages (from tensorflow<2.1.0,>=2.0.0->turicreate) (1.1.0)\n",
            "Requirement already satisfied: setuptools in /usr/local/lib/python3.6/dist-packages (from numba<0.51.0->turicreate) (50.3.0)\n",
            "Requirement already satisfied: llvmlite<0.32.0,>=0.31.0dev0 in /usr/local/lib/python3.6/dist-packages (from numba<0.51.0->turicreate) (0.31.0)\n",
            "Requirement already satisfied: idna<3,>=2.5 in /usr/local/lib/python3.6/dist-packages (from requests>=2.9.1->turicreate) (2.10)\n",
            "Requirement already satisfied: urllib3!=1.25.0,!=1.25.1,<1.26,>=1.21.1 in /usr/local/lib/python3.6/dist-packages (from requests>=2.9.1->turicreate) (1.24.3)\n",
            "Requirement already satisfied: certifi>=2017.4.17 in /usr/local/lib/python3.6/dist-packages (from requests>=2.9.1->turicreate) (2020.6.20)\n",
            "Requirement already satisfied: chardet<4,>=3.0.2 in /usr/local/lib/python3.6/dist-packages (from requests>=2.9.1->turicreate) (3.0.4)\n",
            "Requirement already satisfied: google-auth<2,>=1.6.3 in /usr/local/lib/python3.6/dist-packages (from tensorboard<2.1.0,>=2.0.0->tensorflow<2.1.0,>=2.0.0->turicreate) (1.17.2)\n",
            "Requirement already satisfied: google-auth-oauthlib<0.5,>=0.4.1 in /usr/local/lib/python3.6/dist-packages (from tensorboard<2.1.0,>=2.0.0->tensorflow<2.1.0,>=2.0.0->turicreate) (0.4.1)\n",
            "Requirement already satisfied: markdown>=2.6.8 in /usr/local/lib/python3.6/dist-packages (from tensorboard<2.1.0,>=2.0.0->tensorflow<2.1.0,>=2.0.0->turicreate) (3.2.2)\n",
            "Requirement already satisfied: werkzeug>=0.11.15 in /usr/local/lib/python3.6/dist-packages (from tensorboard<2.1.0,>=2.0.0->tensorflow<2.1.0,>=2.0.0->turicreate) (1.0.1)\n",
            "Requirement already satisfied: h5py in /usr/local/lib/python3.6/dist-packages (from keras-applications>=1.0.8->tensorflow<2.1.0,>=2.0.0->turicreate) (2.10.0)\n",
            "Requirement already satisfied: rsa<5,>=3.1.4; python_version >= \"3\" in /usr/local/lib/python3.6/dist-packages (from google-auth<2,>=1.6.3->tensorboard<2.1.0,>=2.0.0->tensorflow<2.1.0,>=2.0.0->turicreate) (4.6)\n",
            "Requirement already satisfied: pyasn1-modules>=0.2.1 in /usr/local/lib/python3.6/dist-packages (from google-auth<2,>=1.6.3->tensorboard<2.1.0,>=2.0.0->tensorflow<2.1.0,>=2.0.0->turicreate) (0.2.8)\n",
            "Requirement already satisfied: cachetools<5.0,>=2.0.0 in /usr/local/lib/python3.6/dist-packages (from google-auth<2,>=1.6.3->tensorboard<2.1.0,>=2.0.0->tensorflow<2.1.0,>=2.0.0->turicreate) (4.1.1)\n",
            "Requirement already satisfied: requests-oauthlib>=0.7.0 in /usr/local/lib/python3.6/dist-packages (from google-auth-oauthlib<0.5,>=0.4.1->tensorboard<2.1.0,>=2.0.0->tensorflow<2.1.0,>=2.0.0->turicreate) (1.3.0)\n",
            "Requirement already satisfied: importlib-metadata; python_version < \"3.8\" in /usr/local/lib/python3.6/dist-packages (from markdown>=2.6.8->tensorboard<2.1.0,>=2.0.0->tensorflow<2.1.0,>=2.0.0->turicreate) (2.0.0)\n",
            "Requirement already satisfied: pyasn1>=0.1.3 in /usr/local/lib/python3.6/dist-packages (from rsa<5,>=3.1.4; python_version >= \"3\"->google-auth<2,>=1.6.3->tensorboard<2.1.0,>=2.0.0->tensorflow<2.1.0,>=2.0.0->turicreate) (0.4.8)\n",
            "Requirement already satisfied: oauthlib>=3.0.0 in /usr/local/lib/python3.6/dist-packages (from requests-oauthlib>=0.7.0->google-auth-oauthlib<0.5,>=0.4.1->tensorboard<2.1.0,>=2.0.0->tensorflow<2.1.0,>=2.0.0->turicreate) (3.1.0)\n",
            "Requirement already satisfied: zipp>=0.5 in /usr/local/lib/python3.6/dist-packages (from importlib-metadata; python_version < \"3.8\"->markdown>=2.6.8->tensorboard<2.1.0,>=2.0.0->tensorflow<2.1.0,>=2.0.0->turicreate) (3.2.0)\n",
            "Building wheels for collected packages: resampy, gast\n",
            "  Building wheel for resampy (setup.py) ... \u001b[?25l\u001b[?25hdone\n",
            "  Created wheel for resampy: filename=resampy-0.2.1-cp36-none-any.whl size=320848 sha256=b0cb5e7258e535bbb5664cc210dbf7929b8b0c75885d894b59e92c41caa1a1e1\n",
            "  Stored in directory: /root/.cache/pip/wheels/ff/4f/ed/2e6c676c23efe5394bb40ade50662e90eb46e29b48324c5f9b\n",
            "  Building wheel for gast (setup.py) ... \u001b[?25l\u001b[?25hdone\n",
            "  Created wheel for gast: filename=gast-0.2.2-cp36-none-any.whl size=7542 sha256=f8609993f820bfb57e5bc7c21536f0b97bd7d48ee54a53d23d9085e033ea4403\n",
            "  Stored in directory: /root/.cache/pip/wheels/5c/2e/7e/a1d4d4fcebe6c381f378ce7743a3ced3699feb89bcfbdadadd\n",
            "Successfully built resampy gast\n",
            "\u001b[31mERROR: tensorflow-probability 0.11.0 has requirement gast>=0.3.2, but you'll have gast 0.2.2 which is incompatible.\u001b[0m\n",
            "Installing collected packages: resampy, tensorboard, gast, keras-applications, tensorflow-estimator, tensorflow, coremltools, turicreate\n",
            "  Found existing installation: resampy 0.2.2\n",
            "    Uninstalling resampy-0.2.2:\n",
            "      Successfully uninstalled resampy-0.2.2\n",
            "  Found existing installation: tensorboard 2.3.0\n",
            "    Uninstalling tensorboard-2.3.0:\n",
            "      Successfully uninstalled tensorboard-2.3.0\n",
            "  Found existing installation: gast 0.3.3\n",
            "    Uninstalling gast-0.3.3:\n",
            "      Successfully uninstalled gast-0.3.3\n",
            "  Found existing installation: tensorflow-estimator 2.3.0\n",
            "    Uninstalling tensorflow-estimator-2.3.0:\n",
            "      Successfully uninstalled tensorflow-estimator-2.3.0\n",
            "  Found existing installation: tensorflow 2.3.0\n",
            "    Uninstalling tensorflow-2.3.0:\n",
            "      Successfully uninstalled tensorflow-2.3.0\n",
            "Successfully installed coremltools-3.3 gast-0.2.2 keras-applications-1.0.8 resampy-0.2.1 tensorboard-2.0.2 tensorflow-2.0.3 tensorflow-estimator-2.0.1 turicreate-6.4.1\n"
          ],
          "name": "stdout"
        }
      ]
    },
    {
      "cell_type": "code",
      "metadata": {
        "id": "g3g7TU6_JGxp"
      },
      "source": [
        "import turicreate\n"
      ],
      "execution_count": null,
      "outputs": []
    },
    {
      "cell_type": "code",
      "metadata": {
        "id": "lrTiTrBNHRmb",
        "outputId": "c3f9564d-377b-4864-f490-0bb22837a0e2",
        "colab": {
          "base_uri": "https://localhost:8080/",
          "height": 35
        }
      },
      "source": [
        "sample_text = \"he is playing football\"\n",
        "\n",
        "tagged = pos_tag(word_tokenize(sample_text)) \n",
        "print(tagged)"
      ],
      "execution_count": null,
      "outputs": [
        {
          "output_type": "stream",
          "text": [
            "[('he', 'PRP'), ('is', 'VBZ'), ('playing', 'VBG'), ('football', 'NN')]\n"
          ],
          "name": "stdout"
        }
      ]
    },
    {
      "cell_type": "code",
      "metadata": {
        "id": "OrKbKTxeHfNl",
        "outputId": "3aabb2c4-e347-4008-a191-6cb7712ab1af",
        "colab": {
          "base_uri": "https://localhost:8080/",
          "height": 197
        }
      },
      "source": [
        "chunker = RegexpParser(\"\"\" \n",
        "                       NP: {<DT>?<JJ>*<NN>}    #To extract Noun Phrases \n",
        "                       P: {<IN>}               #To extract Prepositions \n",
        "                       VBG: {<VBG>}              #To extract Verbs \n",
        "                       VBD: {<VBD>}\n",
        "                       VBZ: {<VBZ>}\n",
        "                       PP: {<P> <NP>}          #To extract Prepostional Phrases \n",
        "                       VP: {<VBG> <NP|PP>*}      #To \n",
        "                       VP: {<VBD> <NP|PP>*}\n",
        "                       VP: {<VBZ> <NP|PP>*}\n",
        "                      \"\"\")\n",
        "word=[]\n",
        "output = chunker.parse(tagged) \n",
        "for i in output:\n",
        "    length=len(i)\n",
        "    for j in i:\n",
        "      print(j)\n",
        "      if len(j)>1:\n",
        "        for k in j:\n",
        "          print(k)"
      ],
      "execution_count": null,
      "outputs": [
        {
          "output_type": "stream",
          "text": [
            "he\n",
            "h\n",
            "e\n",
            "PRP\n",
            "P\n",
            "R\n",
            "P\n",
            "(VBZ is/VBZ)\n",
            "(VBG playing/VBG)\n",
            "(NP football/NN)\n"
          ],
          "name": "stdout"
        }
      ]
    },
    {
      "cell_type": "code",
      "metadata": {
        "id": "P9hlDUlBHrOL",
        "outputId": "2daa5221-0a58-4ceb-9a22-e6e2378f7036",
        "colab": {
          "base_uri": "https://localhost:8080/",
          "height": 71
        }
      },
      "source": [
        "print(output)\n",
        "def tails(items, path=()):\n",
        "  for child in items:\n",
        "\n",
        "    if type(child) is nltk.Tree:\n",
        "        if child.label() in {\".\", \",\"}:\n",
        "            continue\n",
        "        for result in tails(child, path + (child.label(),)):\n",
        "            yield result\n",
        "    else:\n",
        "        yield path[-2:]\n",
        "a=list(tails(output))\n",
        "print(a)\n",
        "word=word_tokenize(sample_text)\n",
        "print(word)"
      ],
      "execution_count": null,
      "outputs": [
        {
          "output_type": "stream",
          "text": [
            "(S he/PRP (VP (VBZ is/VBZ)) (VP (VBG playing/VBG) (NP football/NN)))\n",
            "[(), ('VP', 'VBZ'), ('VP', 'VBG'), ('VP', 'NP')]\n",
            "['he', 'is', 'playing', 'football']\n"
          ],
          "name": "stdout"
        }
      ]
    },
    {
      "cell_type": "code",
      "metadata": {
        "id": "ATdtJipPIMj3",
        "outputId": "27b5a428-1800-4bae-9ab0-1f8bee390b89",
        "colab": {
          "base_uri": "https://localhost:8080/",
          "height": 89
        }
      },
      "source": [
        "d=[]\n",
        "c=0\n",
        "l=0\n",
        "\n",
        "##Append\n",
        "for j in a:\n",
        "  d.append(list(j))\n",
        "print(d)\n",
        "print(word)\n",
        "##Interchange\n",
        "for i in d:\n",
        "    if len(i)==0 or len(i)<=1:\n",
        "      c=c+1\n",
        "      continue\n",
        "    elif i[0]=='VP':\n",
        "       \n",
        "        if (d[c][1]=='VBD' and d[c+1][1]=='NP'):\n",
        "            temp=d[c]\n",
        "            d[c]=d[c+1]\n",
        "            d[c+1]=temp\n",
        "            temp1=word[c]\n",
        "            word[c]=word[c+1]\n",
        "            word[c+1]=temp1\n",
        "\n",
        "        elif (d[c][1]=='VBG' and d[c+1][1]=='NP') :\n",
        "          temp=d[c]\n",
        "          d[c]=d[c+1]\n",
        "          d[c+1]=temp\n",
        "          temp1=word[c]\n",
        "          word[c]=word[c+1]\n",
        "          word[c+1]=temp1 \n",
        "        else:\n",
        "          c=c+1    \n",
        "\n",
        "\n",
        "print(d)\n",
        "print(word)  "
      ],
      "execution_count": null,
      "outputs": [
        {
          "output_type": "stream",
          "text": [
            "[[], ['VP', 'VBZ'], ['VP', 'VBG'], ['VP', 'NP']]\n",
            "['he', 'is', 'playing', 'football']\n",
            "[[], ['VP', 'VBZ'], ['VP', 'NP'], ['VP', 'VBG']]\n",
            "['he', 'is', 'football', 'playing']\n"
          ],
          "name": "stdout"
        }
      ]
    },
    {
      "cell_type": "code",
      "metadata": {
        "id": "HYtOdl8NBbEr",
        "outputId": "10538ea4-2a53-4e43-c96b-0c1f601b0ec8",
        "colab": {
          "base_uri": "https://localhost:8080/",
          "height": 35
        }
      },
      "source": [
        "print(len(d[0]))"
      ],
      "execution_count": null,
      "outputs": [
        {
          "output_type": "stream",
          "text": [
            "0\n"
          ],
          "name": "stdout"
        }
      ]
    },
    {
      "cell_type": "code",
      "metadata": {
        "id": "S2jsOf5JIXpK",
        "outputId": "8e462d0c-2311-4124-ff72-ee83c1cd62f1",
        "colab": {
          "base_uri": "https://localhost:8080/",
          "height": 211
        }
      },
      "source": [
        "st=turicreate.SFrame.read_csv('mdata.csv',delimiter='\\t')\n"
      ],
      "execution_count": null,
      "outputs": [
        {
          "output_type": "display_data",
          "data": {
            "text/html": [
              "<pre>Finished parsing file /content/mdata.csv</pre>"
            ],
            "text/plain": [
              "Finished parsing file /content/mdata.csv"
            ]
          },
          "metadata": {
            "tags": []
          }
        },
        {
          "output_type": "display_data",
          "data": {
            "text/html": [
              "<pre>Parsing completed. Parsed 100 lines in 0.858826 secs.</pre>"
            ],
            "text/plain": [
              "Parsing completed. Parsed 100 lines in 0.858826 secs."
            ]
          },
          "metadata": {
            "tags": []
          }
        },
        {
          "output_type": "stream",
          "text": [
            "------------------------------------------------------\n",
            "Inferred types from first 100 line(s) of file as \n",
            "column_type_hints=[int,str,str,str]\n",
            "If parsing fails due to incorrect types, you can correct\n",
            "the inferred type list above and pass it to read_csv in\n",
            "the column_type_hints argument\n",
            "------------------------------------------------------\n"
          ],
          "name": "stdout"
        },
        {
          "output_type": "display_data",
          "data": {
            "text/html": [
              "<pre>Finished parsing file /content/mdata.csv</pre>"
            ],
            "text/plain": [
              "Finished parsing file /content/mdata.csv"
            ]
          },
          "metadata": {
            "tags": []
          }
        },
        {
          "output_type": "display_data",
          "data": {
            "text/html": [
              "<pre>Parsing completed. Parsed 217425 lines in 0.391305 secs.</pre>"
            ],
            "text/plain": [
              "Parsing completed. Parsed 217425 lines in 0.391305 secs."
            ]
          },
          "metadata": {
            "tags": []
          }
        }
      ]
    },
    {
      "cell_type": "code",
      "metadata": {
        "id": "E3KaYMV-Kdzd",
        "outputId": "9da3ff13-f31a-475e-a01f-bcf3489d66fb",
        "colab": {
          "base_uri": "https://localhost:8080/",
          "height": 107
        }
      },
      "source": [
        "c=0\n",
        "eng=st['english_word']\n",
        "mal=st['malayalam_definition']\n",
        "malword='nil'\n",
        "for single_word in range(0,len(word)):\n",
        "  c=0\n",
        "  present_flag=0\n",
        "  eflag=0\n",
        "  tag = pos_tag(word_tokenize(word[single_word]))\n",
        "  print(word[single_word],tag)\n",
        "  if tag[0][1]=='VBG':\n",
        "    if 'ing' in word[single_word]:\n",
        "      new=word[single_word][:-3]\n",
        "      c=0\n",
        "      for j in eng:\n",
        "        c=c+1\n",
        "        if new==j.lower():\n",
        "            malword=mal[c-1]\n",
        "            present_flag=1\n",
        "            break\n",
        "      if present_flag==0:\n",
        "        new=new+'e'\n",
        "        eflag=1\n",
        "        c=0\n",
        "        for j in eng:\n",
        "          c=c+1\n",
        "          if new==j.lower():\n",
        "            malword=mal[c-1]\n",
        "            present_flag=1\n",
        "            break\n",
        "      elif eflag==1 and present_flag==0:\n",
        "        while present_flag!=1 and len(new)>=1:\n",
        "          new=new[:-1]\n",
        "          c=0\n",
        "          for j in eng:\n",
        "            c=c+1\n",
        "            if new==j.lower():\n",
        "              malword=mal[c-1]\n",
        "              present_flag=1\n",
        "              break\n",
        "\n",
        "      print(malword[:-1]+'ന്നു',end=' ')\n",
        "\n",
        "  elif tag[0][1]=='VBD':\n",
        "    if 'ed' in word[single_word]:\n",
        "      new=word[single_word][:-2]\n",
        "      c=0\n",
        "      for j in eng:\n",
        "        c=c+1\n",
        "        if new==j.lower():\n",
        "          malword=mal[c-1]\n",
        "          present_flag=1\n",
        "          break\n",
        "      print(malword)\n",
        "  elif word[single_word]=='a' and word[single_word-1]=='is':\n",
        "    for j in eng:\n",
        "      c=c+1\n",
        "      if word[single_word]==j.lower():\n",
        "         print(mal[c-1], end =\" \")\n",
        "  else:\n",
        "    for k in eng:\n",
        "      c=c+1\n",
        "      if word[single_word]==k.lower():\n",
        "          print(mal[c-1], end =\" \")\n",
        "          break\n",
        "     "
      ],
      "execution_count": null,
      "outputs": [
        {
          "output_type": "stream",
          "text": [
            "it [('it', 'PRP')]\n",
            "was [('was', 'VBD')]\n",
            "yesterday [('yesterday', 'NN')]\n",
            "ഇന്നലെ raining [('raining', 'VBG')]\n",
            "മന്നു "
          ],
          "name": "stdout"
        }
      ]
    },
    {
      "cell_type": "code",
      "metadata": {
        "id": "j_E1OJ2Cf_TT",
        "outputId": "6a565bf7-ee61-43c3-c326-4eeffeec3604",
        "colab": {
          "base_uri": "https://localhost:8080/",
          "height": 35
        }
      },
      "source": [
        "c=0\n",
        "eng=st['english_word']\n",
        "mal=st['malayalam_definition']\n",
        "malword='nil'\n",
        "for single_word in range(0,len(word)):\n",
        "  c=0\n",
        "  present_flag=0\n",
        "  eflag=0\n",
        "  if len(d[single_word])>1:\n",
        "    if d[single_word][1]=='VBG':\n",
        "       if 'ing' in word[single_word]:\n",
        "         new=word[single_word][:-3]\n",
        "         c=0\n",
        "         for j in eng:\n",
        "          c=c+1\n",
        "          if new==j.lower():\n",
        "            malword=mal[c-1]\n",
        "            present_flag=1\n",
        "            break\n",
        "       if present_flag==0:\n",
        "        new=new+'e'\n",
        "        eflag=1\n",
        "        c=0\n",
        "        for j in eng:\n",
        "          c=c+1\n",
        "          if new==j.lower():\n",
        "            malword=mal[c-1]\n",
        "            present_flag=1\n",
        "            break\n",
        "        if eflag==1 and present_flag==0:\n",
        "         while present_flag!=1 and len(new)>=1:\n",
        "          new=new[:-1]\n",
        "          c=0\n",
        "          for j in eng:\n",
        "            c=c+1\n",
        "            if new==j.lower():\n",
        "              malword=mal[c-1]\n",
        "              present_flag=1\n",
        "              break\n",
        "       print(malword[:-1]+'ന്നു',end=' ')\n",
        "\n",
        "    elif d[single_word][1]=='VBD':\n",
        "      if 'ed' in word[single_word]:\n",
        "       new=word[single_word][:-2]\n",
        "       c=0\n",
        "       for j in eng:\n",
        "          c=c+1\n",
        "          if new==j.lower():\n",
        "            malword=mal[c-1]\n",
        "            present_flag=1\n",
        "            print(malword[:-1]+'ച്ചു')\n",
        "            break\n",
        "\n",
        "    elif word[single_word]=='a' and word[single_word-1]=='is':\n",
        "      for j in eng:\n",
        "        c=c+1\n",
        "        if word[single_word]==j.lower():\n",
        "         print(mal[c-1], end =\" \")\n",
        "\n",
        "    else:\n",
        "      for k in eng:\n",
        "         c=c+1\n",
        "         if word[single_word]==k.lower():\n",
        "           print(mal[c-1], end =\" \")\n",
        "           break\n",
        "\n",
        "  else:\n",
        "    for k in eng:\n",
        "      c=c+1\n",
        "      if word[single_word]==k.lower():\n",
        "          print(mal[c-1], end =\" \")\n",
        "          break\n",
        "        \n",
        "         \n",
        "\n",
        "\n",
        "\n"
      ],
      "execution_count": null,
      "outputs": [
        {
          "output_type": "stream",
          "text": [
            "അവൻ മന്നു കളിക്കുന്ന "
          ],
          "name": "stdout"
        }
      ]
    }
  ]
}